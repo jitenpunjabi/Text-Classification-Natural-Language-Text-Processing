{
 "cells": [
  {
   "cell_type": "code",
   "execution_count": 105,
   "metadata": {},
   "outputs": [],
   "source": [
    "from csv import DictReader\n",
    "from sklearn.linear_model import LogisticRegression\n",
    "from sklearn.feature_extraction.text import TfidfVectorizer\n",
    "from sklearn.feature_extraction.text import CountVectorizer\n",
    "from sklearn.pipeline import make_pipeline\n",
    "from sklearn.metrics import f1_score\n",
    "from nltk.stem.snowball import  SnowballStemmer\n",
    "from sklearn.ensemble import RandomForestClassifier\n",
    "from sklearn.naive_bayes import MultinomialNB\n",
    "from nltk.corpus import stopwords\n",
    "import re\n",
    "from sklearn.svm import SVC\n",
    "from sklearn.neighbors import KNeighborsClassifier\n",
    "from sklearn.naive_bayes import MultinomialNB\n",
    "from sklearn.grid_search import GridSearchCV\n",
    "from sklearn.svm import LinearSVC"
   ]
  },
  {
   "cell_type": "heading",
   "metadata": {},
   "level": 3,
   "source": [
    "Reading Data from Train and Test Files"
   ]
  },
  {
   "cell_type": "code",
   "execution_count": 106,
   "metadata": {},
   "outputs": [],
   "source": [
    "def read_data(name):\n",
    "    text, targets = [], []\n",
    "\n",
    "    with open('data/{}.csv'.format(name)) as f:\n",
    "        for item in DictReader(f):\n",
    "            text.append(item['text'].decode('utf8'))\n",
    "            targets.append(item['category'])\n",
    "\n",
    "    return text, targets"
   ]
  },
  {
   "cell_type": "heading",
   "metadata": {},
   "level": 3,
   "source": [
    "Built function for preprocessing. Removal of stopwords for each line. Afterwards, usedSnowballStemmer to stem each of the individual  words in a given line."
   ]
  },
  {
   "cell_type": "code",
   "execution_count": 107,
   "metadata": {},
   "outputs": [],
   "source": [
    "def stem_words(line):\n",
    "    stemmer=SnowballStemmer(\"english\", ignore_stopwords=True)\n",
    "    stop_words=set(stopwords.words('english'))\n",
    "    line=line.split()\n",
    "    words=\"\"\n",
    "    for i in line:\n",
    "        if i not in stop_words:\n",
    "            words=words+stemmer.stem(i)+\" \"\n",
    "    return words"
   ]
  },
  {
   "cell_type": "heading",
   "metadata": {},
   "level": 3,
   "source": [
    "Built clean_str function to clean the strings with word contractions. Using regular expressions."
   ]
  },
  {
   "cell_type": "code",
   "execution_count": 108,
   "metadata": {},
   "outputs": [],
   "source": [
    "def clean_str(string):\n",
    "\n",
    "\n",
    "\n",
    "    string = re.sub(r\"[^A-Za-z0-9(),!?\\'\\`]\", \" \", string)\n",
    "    string = re.sub(r\"\\'s\", \" \\'s\", string)\n",
    "    string = re.sub(r\"\\'ve\", \" \\'ve\", string)\n",
    "    string = re.sub(r\"\\'m\", \" \\'m\", string)\n",
    "    string = re.sub(r\"n\\'t\", \" n\\'t\", string)\n",
    "    string = re.sub(r\"\\'re\", \" \\'re\", string)\n",
    "    string = re.sub(r\"\\'d\", \" \\'d\", string)\n",
    "    string = re.sub(r\"\\'ll\", \" \\'ll\", string)\n",
    "    string = re.sub(r\",\", \" , \", string)\n",
    "    string = re.sub(r\"!\", \" ! \", string)\n",
    "    string = re.sub(r\"\\(\", \" \\( \", string)\n",
    "    string = re.sub(r\"\\)\", \" \\) \", string)\n",
    "    string = re.sub(r\"\\?\", \" ? \", string)\n",
    "    string = re.sub(r\"\\s{2,}\", \" \", string)\n",
    "    return string.strip().lower()"
   ]
  },
  {
   "cell_type": "heading",
   "metadata": {},
   "level": 3,
   "source": [
    "Baseline Model using Logistic Regression "
   ]
  },
  {
   "cell_type": "code",
   "execution_count": 109,
   "metadata": {},
   "outputs": [
    {
     "name": "stdout",
     "output_type": "stream",
     "text": [
      "macro f1: 0.323676828408\n"
     ]
    }
   ],
   "source": [
    "text_train, targets_train = read_data('train')\n",
    "text_test, targets_test = read_data('test')\n",
    "        \n",
    "model = make_pipeline(\n",
    "            TfidfVectorizer(),\n",
    "            LogisticRegression(),\n",
    "        ).fit(text_train, targets_train)\n",
    "        \n",
    "prediction = model.predict(text_test)\n",
    "        \n",
    "baseline = f1_score(targets_test, prediction, average='macro')\n",
    "print 'macro f1:', baseline"
   ]
  },
  {
   "cell_type": "heading",
   "metadata": {},
   "level": 3,
   "source": [
    "Applying the clean string function and stem function to each Whisper \n",
    "Also printing a small set of clean strings of Whispers"
   ]
  },
  {
   "cell_type": "code",
   "execution_count": 110,
   "metadata": {},
   "outputs": [
    {
     "name": "stdout",
     "output_type": "stream",
     "text": [
      "[u'look someon hold convers guy ', u'hey ', u'singl guy girl near spald ? femal ', u'white girl like ? ', u\"n't feel enthusiast anyth life anymor realli suck \", u'swear god , husband suggest give dog away one time give away ', u'gay bi guy delhi ? ? ', u'someon road trip mall ', u'realli like hispan girl class thug girl ', u\"bought puppi fix relationship 's still heroin addict \", u'someon stop way work ask number flatter yet terrifi moment life ', u\"gonna mile 277 tonight see well hungarian line danc anyon wanna come 's gonna fun time 21m \", u'anybodi wanna talk ? extrem bore ', u\"never date valentin 's day hate hear peopl complain ! 's realli big deal \", u'get guy valentin day ? ', u'need white chocol life ', u'english hello french bonjour spanish hola sup bitch ', u'im feel realli bad tonight ', u\"'m 19 n't know meet girl want relationship advic ? \", u'mommi best ']\n"
     ]
    }
   ],
   "source": [
    "text_train=map(clean_str,text_train)\n",
    "text_test=map(clean_str,text_test)\n",
    "\n",
    "text_train=map(stem_words,text_train)\n",
    "text_test=map(stem_words,text_test)\n",
    "\n",
    "print text_train[0:20]"
   ]
  },
  {
   "cell_type": "heading",
   "metadata": {},
   "level": 3,
   "source": [
    "Applying Logistic Regression with changed parameter for min_df=20; Igonring terms with document freq less than 20"
   ]
  },
  {
   "cell_type": "code",
   "execution_count": 111,
   "metadata": {},
   "outputs": [
    {
     "name": "stdout",
     "output_type": "stream",
     "text": [
      "macro f1 using TFIDF: 0.393336680879\n"
     ]
    }
   ],
   "source": [
    "#Logistic Regression using Tfidf\n",
    "model_tf = make_pipeline(TfidfVectorizer(max_df=0.95, min_df=20,\n",
    "                                stop_words='english'),\n",
    "        LogisticRegression(),\n",
    "    ).fit(text_train, targets_train)\n",
    "\n",
    "prediction = model_tf.predict(text_test)\n",
    "score_logit = f1_score(targets_test, prediction, average='macro')\n",
    "print 'macro f1 using TFIDF:', score_logit"
   ]
  },
  {
   "cell_type": "heading",
   "metadata": {},
   "level": 3,
   "source": [
    "Trying Logistic Regression with CountVectorizer instead of TFIDF, and min_df as 7 we can see some improvement in the model\n"
   ]
  },
  {
   "cell_type": "code",
   "execution_count": 112,
   "metadata": {},
   "outputs": [
    {
     "name": "stdout",
     "output_type": "stream",
     "text": [
      "macro f1 using CountVectorizer: 0.483082746713\n"
     ]
    }
   ],
   "source": [
    "#Logistic Regression using CountVectorizer\n",
    "model_count = make_pipeline(CountVectorizer(max_df=0.95, min_df=7,\n",
    "                                stop_words='english'),\n",
    "        LogisticRegression(),\n",
    "    ).fit(text_train, targets_train)\n",
    "\n",
    "prediction = model_count.predict(text_test)\n",
    "\n",
    "print 'macro f1 using CountVectorizer:', f1_score(targets_test, prediction, average='macro')"
   ]
  },
  {
   "cell_type": "heading",
   "metadata": {},
   "level": 3,
   "source": [
    "Multinomial Naive Bayes model for text classification. Trying out for different values of min_df. It seems to works best for min_df=30 for countvectorizer."
   ]
  },
  {
   "cell_type": "code",
   "execution_count": 113,
   "metadata": {},
   "outputs": [
    {
     "name": "stdout",
     "output_type": "stream",
     "text": [
      "macro f1 using CountVectorizer: 5 0.35282880051\nmacro f1 using CountVectorizer:"
     ]
    },
    {
     "name": "stdout",
     "output_type": "stream",
     "text": [
      " 10 0.368736090016\nmacro f1 using CountVectorizer:"
     ]
    },
    {
     "name": "stdout",
     "output_type": "stream",
     "text": [
      " 20 0.384899707225\nmacro f1 using CountVectorizer:"
     ]
    },
    {
     "name": "stdout",
     "output_type": "stream",
     "text": [
      " 30 0.397222581241\nmacro f1 using CountVectorizer:"
     ]
    },
    {
     "name": "stdout",
     "output_type": "stream",
     "text": [
      " 40 0.369767241368\nmacro f1 using CountVectorizer:"
     ]
    },
    {
     "name": "stdout",
     "output_type": "stream",
     "text": [
      " 50 0.351785534404\nmacro f1 using CountVectorizer:"
     ]
    },
    {
     "name": "stdout",
     "output_type": "stream",
     "text": [
      " 60 0.330865655264\nmacro f1 using CountVectorizer:"
     ]
    },
    {
     "name": "stdout",
     "output_type": "stream",
     "text": [
      " 65 0.328499181393\nmacro f1 using CountVectorizer:"
     ]
    },
    {
     "name": "stdout",
     "output_type": "stream",
     "text": [
      " 70 0.287506060653\nmacro f1 using CountVectorizer:"
     ]
    },
    {
     "name": "stdout",
     "output_type": "stream",
     "text": [
      " 75 0.283798853677\nmacro f1 using CountVectorizer:"
     ]
    },
    {
     "name": "stdout",
     "output_type": "stream",
     "text": [
      " 80 0.273991831072\n"
     ]
    }
   ],
   "source": [
    "min=[5,10,20,30,40,50,60,65,70,75,80]\n",
    "for n in min:\n",
    "    model_NB = make_pipeline(CountVectorizer(max_df=0.95, min_df=n,\n",
    "                                stop_words='english'),\n",
    "        MultinomialNB(),\n",
    "    ).fit(text_train, targets_train)\n",
    "\n",
    "    prediction = model_NB.predict(text_test)\n",
    "\n",
    "    print 'macro f1 using CountVectorizer:',n, f1_score(targets_test, prediction, average='macro')"
   ]
  },
  {
   "cell_type": "heading",
   "metadata": {},
   "level": 3,
   "source": [
    "Trying Naive Bayes with TFIDF"
   ]
  },
  {
   "cell_type": "code",
   "execution_count": 98,
   "metadata": {},
   "outputs": [
    {
     "name": "stdout",
     "output_type": "stream",
     "text": [
      "macro f1 using TFIDFVectorizer: 5 0.132624235446\nmacro f1 using TFIDFVectorizer:"
     ]
    },
    {
     "name": "stdout",
     "output_type": "stream",
     "text": [
      " 10 0.152409178503\nmacro f1 using TFIDFVectorizer:"
     ]
    },
    {
     "name": "stdout",
     "output_type": "stream",
     "text": [
      " 20 0.184173560442\nmacro f1 using TFIDFVectorizer:"
     ]
    },
    {
     "name": "stdout",
     "output_type": "stream",
     "text": [
      " 30 0.21366681882\nmacro f1 using TFIDFVectorizer:"
     ]
    },
    {
     "name": "stdout",
     "output_type": "stream",
     "text": [
      " 40 0.195045407584\nmacro f1 using TFIDFVectorizer:"
     ]
    },
    {
     "name": "stdout",
     "output_type": "stream",
     "text": [
      " 50 0.189492056841\nmacro f1 using TFIDFVectorizer:"
     ]
    },
    {
     "name": "stdout",
     "output_type": "stream",
     "text": [
      " 60 0.193673088072\nmacro f1 using TFIDFVectorizer:"
     ]
    },
    {
     "name": "stdout",
     "output_type": "stream",
     "text": [
      " 65 0.188495980585\nmacro f1 using TFIDFVectorizer:"
     ]
    },
    {
     "name": "stdout",
     "output_type": "stream",
     "text": [
      " 70 0.176114143356\nmacro f1 using TFIDFVectorizer:"
     ]
    },
    {
     "name": "stdout",
     "output_type": "stream",
     "text": [
      " 75 0.166136535831\nmacro f1 using TFIDFVectorizer:"
     ]
    },
    {
     "name": "stdout",
     "output_type": "stream",
     "text": [
      " 80 0.161749769482\n"
     ]
    }
   ],
   "source": [
    "min=[5,10,20,30,40,50,60,65,70,75,80]\n",
    "for n in min:\n",
    "    model_NB = make_pipeline(TfidfVectorizer(max_df=0.95, min_df=n\n",
    "                                         ,\n",
    "                                stop_words='english'),\n",
    "        MultinomialNB(),\n",
    "    ).fit(text_train, targets_train)\n",
    "\n",
    "    prediction = model_NB.predict(text_test)\n",
    "\n",
    "    print 'macro f1 using TFIDFVectorizer:',n, f1_score(targets_test, prediction, average='macro')"
   ]
  },
  {
   "cell_type": "heading",
   "metadata": {},
   "level": 3,
   "source": [
    "Random Forest Classifier using TFIDF and Count Vectorizer respectively"
   ]
  },
  {
   "cell_type": "code",
   "execution_count": 39,
   "metadata": {},
   "outputs": [
    {
     "name": "stdout",
     "output_type": "stream",
     "text": [
      "Random Forest: 0.383548571108\n"
     ]
    }
   ],
   "source": [
    "#Vectorizing Words\n",
    "#Random Forest using TFIDF\n",
    "vect= TfidfVectorizer(stop_words='english',min_df=6)\n",
    "text_train_tf=vect.fit_transform(text_train)\n",
    "text_test_tf=vect.transform(text_test)\n",
    "rand_class=RandomForestClassifier()\n",
    "rand_class.fit(text_train_tf,targets_train)\n",
    "predi=rand_class.predict(text_test_tf)\n",
    "print 'Random Forest:', f1_score(targets_test, predi, average='macro')"
   ]
  },
  {
   "cell_type": "code",
   "execution_count": 48,
   "metadata": {},
   "outputs": [
    {
     "name": "stdout",
     "output_type": "stream",
     "text": [
      "Random Forest: 0.383847778315\n"
     ]
    }
   ],
   "source": [
    "#Vectorizing Words\n",
    "#Random Forest using CountVectorizer\n",
    "vect2= CountVectorizer(stop_words='english',min_df=6)\n",
    "text_train_cf=vect2.fit_transform(text_train)\n",
    "text_test_cf=vect2.transform(text_test)\n",
    "rand_class=RandomForestClassifier()\n",
    "rand_class.fit(text_train_cf,targets_train)\n",
    "predi=rand_class.predict(text_test_cf)\n",
    "print 'Random Forest:', f1_score(targets_test, predi, average='macro')"
   ]
  },
  {
   "cell_type": "heading",
   "metadata": {},
   "level": 3,
   "source": [
    "Fine tuning Random Forest Classifier with GridSearchCV"
   ]
  },
  {
   "cell_type": "code",
   "execution_count": 101,
   "metadata": {},
   "outputs": [
    {
     "name": "stdout",
     "output_type": "stream",
     "text": [
      "Best parameter {'min_samples_split': 15, 'n_estimators': 350} 0.552747722096 RandomForestClassifier(bootstrap=True, class_weight=None, criterion='gini',\n            max_depth=None, max_features='auto', max_leaf_nodes=None,\n            min_impurity_split=1e-07, min_samples_leaf=1,\n            min_samples_split=15, min_weight_fraction_leaf=0.0,\n            n_estimators=350, n_jobs=1, oob_score=False, random_state=None,\n            verbose=0, warm_start=False)\n"
     ]
    }
   ],
   "source": [
    "from sklearn.grid_search import GridSearchCV\n",
    "tuned_parameters = [{'n_estimators':[150,200,250,300,350], 'min_samples_split':[15,25,50]}]\n",
    "gs_clf = GridSearchCV(RandomForestClassifier(), tuned_parameters,cv=5, n_jobs=-1)\n",
    "gs_clf.fit(text_train_tf,targets_train)\n",
    "print \"Best parameter\" , gs_clf.best_params_,gs_clf.best_score_,gs_clf.best_estimator_"
   ]
  },
  {
   "cell_type": "heading",
   "metadata": {},
   "level": 3,
   "source": [
    "Using results from GridSearch"
   ]
  },
  {
   "cell_type": "code",
   "execution_count": 99,
   "metadata": {},
   "outputs": [
    {
     "name": "stdout",
     "output_type": "stream",
     "text": [
      "Random Forest Best: 0.419411036145\n"
     ]
    }
   ],
   "source": [
    "#Random Forest Best Parameters\n",
    "random_clf=RandomForestClassifier(n_estimators=200,min_samples_split=25)\n",
    "random_clf.fit(text_train_tf,targets_train)\n",
    "predict_random=random_clf.predict(text_test_tf)\n",
    "random_score = f1_score(targets_test, predict_random, average='macro')\n",
    "print 'Random Forest Best:', random_score"
   ]
  },
  {
   "cell_type": "heading",
   "metadata": {},
   "level": 3,
   "source": [
    "GridSearchCV for Support Vector Machines "
   ]
  },
  {
   "cell_type": "code",
   "execution_count": 53,
   "metadata": {},
   "outputs": [
    {
     "name": "stdout",
     "output_type": "stream",
     "text": [
      "Best parameter {'penalty': 'l2', 'loss': 'hinge', 'C': 1} 0.545842824601 LinearSVC(C=1, class_weight=None, dual=True, fit_intercept=True,\n     intercept_scaling=1, loss='hinge', max_iter=1000, multi_class='ovr',\n     penalty='l2', random_state=None, tol=0.0001, verbose=0)\n"
     ]
    }
   ],
   "source": [
    "#Support Vector Machine - GridSearchCV\n",
    "# GridSearch CV\n",
    "from sklearn.grid_search import GridSearchCV\n",
    "tuned_parameters = [{'C': [1,10,20,50] ,'penalty': ['l2'],'loss':['hinge','squared_hinge']}]\n",
    "gs_clf = GridSearchCV(LinearSVC(), tuned_parameters,cv=5, n_jobs=-1)\n",
    "gs_clf.fit(text_train_tf,targets_train)\n",
    "print \"Best parameter\" , gs_clf.best_params_,gs_clf.best_score_,gs_clf.best_estimator_"
   ]
  },
  {
   "cell_type": "code",
   "execution_count": 102,
   "metadata": {},
   "outputs": [
    {
     "name": "stdout",
     "output_type": "stream",
     "text": [
      "Best LinearSVC : 0.501105917658\n"
     ]
    }
   ],
   "source": [
    "#Best model LinearSVC\n",
    "best_linear_svc=LinearSVC(C=1, class_weight=None, dual=True, fit_intercept=True,\n",
    "intercept_scaling=1, loss='hinge', max_iter=1000, multi_class='ovr',\n",
    "penalty='l2', random_state=None, tol=0.0001, verbose=0)\n",
    "best_linear_svc.fit(text_train_tf,targets_train)\n",
    "best_linear_svc_predi=best_linear_svc.predict(text_test_tf)\n",
    "svc_score = f1_score(targets_test, best_linear_svc_predi, average='macro')\n",
    "print 'Best LinearSVC :', svc_score"
   ]
  },
  {
   "cell_type": "heading",
   "metadata": {},
   "level": 3,
   "source": [
    "K-Nearest Neighbors Classifier with TfidfVectorizer. \n",
    "Doesn't fit the data well"
   ]
  },
  {
   "cell_type": "code",
   "execution_count": 56,
   "metadata": {},
   "outputs": [],
   "source": [
    "#KNN Classifier using TFIDF vectorizer\n",
    "knn_list=[2,3,4,5,6,7,8,20,50,100]\n",
    "for n in knn_list:\n",
    "    knn_clf=KNeighborsClassifier(n_neighbors=n)\n",
    "    knn_clf.fit(text_train_tf,targets_train)\n",
    "    knn_predict=knn_clf.predict(text_test_tf)\n",
    "    print 'KNN fit: ',n , f1_score(targets_test, knn_predict, average='macro')"
   ]
  },
  {
   "cell_type": "code",
   "execution_count": 58,
   "metadata": {},
   "outputs": [
    {
     "name": "stdout",
     "output_type": "stream",
     "text": [
      "KNN fit:  2 0.228210756002\nKNN fit: "
     ]
    },
    {
     "name": "stdout",
     "output_type": "stream",
     "text": [
      " 3 0.239746127845\nKNN fit: "
     ]
    },
    {
     "name": "stdout",
     "output_type": "stream",
     "text": [
      " 4 0.224608927481\nKNN fit: "
     ]
    },
    {
     "name": "stdout",
     "output_type": "stream",
     "text": [
      " 5 0.221215773499\nKNN fit: "
     ]
    },
    {
     "name": "stdout",
     "output_type": "stream",
     "text": [
      " 6 0.205514690991\nKNN fit: "
     ]
    },
    {
     "name": "stdout",
     "output_type": "stream",
     "text": [
      " 7 0.196389785237\nKNN fit: "
     ]
    },
    {
     "name": "stdout",
     "output_type": "stream",
     "text": [
      " 8 0.177747127535\n"
     ]
    }
   ],
   "source": [
    "#KNN Classifier using CountVectorizer\n",
    "knn_list=[2,3,4,5,6,7,8]\n",
    "for n in knn_list:\n",
    "    knn_clf=KNeighborsClassifier(n_neighbors=n)\n",
    "    knn_clf.fit(text_train_cf,targets_train)\n",
    "    knn_predict=knn_clf.predict(text_test_tf)\n",
    "    print 'KNN fit: ',n , f1_score(targets_test, knn_predict, average='macro')"
   ]
  },
  {
   "cell_type": "heading",
   "metadata": {},
   "level": 3,
   "source": [
    "Trying an ensemble of models using Voting Classifier in sklearn. Applied CountVectorizer. Used soft voting, so it takes prediction probabilities"
   ]
  },
  {
   "cell_type": "code",
   "execution_count": 68,
   "metadata": {},
   "outputs": [
    {
     "name": "stdout",
     "output_type": "stream",
     "text": [
      "ensemble results: 0.485610066809\nensemble results:"
     ]
    },
    {
     "name": "stdout",
     "output_type": "stream",
     "text": [
      " 0.484682264313\nensemble results:"
     ]
    },
    {
     "name": "stdout",
     "output_type": "stream",
     "text": [
      " 0.481999490229\nensemble results:"
     ]
    },
    {
     "name": "stdout",
     "output_type": "stream",
     "text": [
      " 0.485841864224\nensemble results:"
     ]
    },
    {
     "name": "stdout",
     "output_type": "stream",
     "text": [
      " 0.483958775745\nensemble results:"
     ]
    },
    {
     "name": "stdout",
     "output_type": "stream",
     "text": [
      " 0.482591796619\nensemble results:"
     ]
    },
    {
     "name": "stdout",
     "output_type": "stream",
     "text": [
      " 0.471225785534\nensemble results:"
     ]
    },
    {
     "name": "stdout",
     "output_type": "stream",
     "text": [
      " 0.453485102442\n"
     ]
    }
   ],
   "source": [
    "#Building an Ensemble model using Voting classifier\n",
    "   \n",
    "vect3= CountVectorizer(stop_words='english',min_df=5,ngram_range=(1,2))\n",
    "text_train_en=vect3.fit_transform(text_train)\n",
    "text_test_en=vect3.transform(text_test)\n",
    "    \n",
    "    \n",
    "from sklearn.ensemble import VotingClassifier\n",
    "estimators = []\n",
    "clf1=SVC(C=1,kernel='linear',probability=True)\n",
    "clf2=RandomForestClassifier(n_estimators=200,min_samples_split=25)\n",
    "clf3=LogisticRegression()\n",
    "clf4=MultinomialNB()\n",
    "estimators.append(('SVM',clf1))\n",
    "estimators.append(('Random Forest',clf2))\n",
    "estimators.append(('Naive Bayes',clf4))\n",
    "estimators.append(('Logistic Regression',clf3))\n",
    "ensemble = VotingClassifier(estimators, voting='soft', weights=[3,1,1,2])\n",
    "ensemble=ensemble.fit(text_train_en,targets_train)\n",
    "prediction_ensemble=ensemble.predict(text_test_en)\n",
    "print 'ensemble results:', f1_score(targets_test, prediction_ensemble, average='macro')"
   ]
  },
  {
   "cell_type": "heading",
   "metadata": {},
   "level": 3,
   "source": [
    "Trying out an ensemble of models. This time with TFIDF. Tried out with different min_df to get the best accuracy."
   ]
  },
  {
   "cell_type": "code",
   "execution_count": 72,
   "metadata": {},
   "outputs": [
    {
     "name": "stdout",
     "output_type": "stream",
     "text": [
      "ensemble results: 0.522485402096\nensemble results:"
     ]
    },
    {
     "name": "stdout",
     "output_type": "stream",
     "text": [
      " 0.523735017437\nensemble results:"
     ]
    },
    {
     "name": "stdout",
     "output_type": "stream",
     "text": [
      " 0.529372460615\nensemble results:"
     ]
    },
    {
     "name": "stdout",
     "output_type": "stream",
     "text": [
      " 0.523632802102\nensemble results:"
     ]
    },
    {
     "name": "stdout",
     "output_type": "stream",
     "text": [
      " 0.522769504949\nensemble results:"
     ]
    },
    {
     "name": "stdout",
     "output_type": "stream",
     "text": [
      " 0.522706246345\nensemble results:"
     ]
    },
    {
     "name": "stdout",
     "output_type": "stream",
     "text": [
      " 0.49936838823\nensemble results:"
     ]
    },
    {
     "name": "stdout",
     "output_type": "stream",
     "text": [
      " 0.485655593514\nensemble results:"
     ]
    },
    {
     "name": "stdout",
     "output_type": "stream",
     "text": [
      " 0.470469387258\n"
     ]
    }
   ],
   "source": [
    "#Building an Ensemble model using Voting classifier\n",
    "min=[2,3,4,5,6,7,8,9,10]\n",
    "for n in min:\n",
    "    vect4= TfidfVectorizer(stop_words='english',min_df=n,ngram_range=(1,2))\n",
    "    text_train_en=vect4.fit_transform(text_train)\n",
    "    text_test_en=vect4.transform(text_test)\n",
    "        \n",
    "        \n",
    "    from sklearn.ensemble import VotingClassifier\n",
    "    estimators = []\n",
    "    clf1=SVC(C=1,kernel='linear',probability=True)\n",
    "    clf2=RandomForestClassifier(n_estimators=200,min_samples_split=25)\n",
    "    clf3=LogisticRegression()\n",
    "    clf4=MultinomialNB()\n",
    "    estimators.append(('SVM',clf1))\n",
    "    estimators.append(('Random Forest',clf2))\n",
    "    # estimators.append(('Naive Bayes',clf4))\n",
    "    estimators.append(('Logistic Regression',clf3))\n",
    "    ensemble = VotingClassifier(estimators, voting='soft', weights=[2,1,1])\n",
    "    ensemble=ensemble.fit(text_train_en,targets_train)\n",
    "    prediction_ensemble=ensemble.predict(text_test_en)\n",
    "    print 'ensemble results:', f1_score(targets_test, prediction_ensemble, average='macro')"
   ]
  },
  {
   "cell_type": "heading",
   "metadata": {},
   "level": 3,
   "source": [
    "Code I used to try out different weights of the classifiers "
   ]
  },
  {
   "cell_type": "code",
   "execution_count": 88,
   "metadata": {},
   "outputs": [],
   "source": [
    "#Trying all weights\n",
    "from sklearn.ensemble import VotingClassifier\n",
    "from sklearn import cross_validation\n",
    "import pandas as pd\n",
    "import numpy as np\n",
    "    \n",
    "np.random.seed(123)\n",
    "    \n",
    "df = pd.DataFrame(columns=('w1', 'w2', 'w3', 'mean', 'std'))\n",
    "    \n",
    "i = 0\n",
    "for w1 in range(1,4):\n",
    "    for w2 in range(1,4):\n",
    "        for w3 in range(1,4):\n",
    "    \n",
    "            if len(set((w1,w2,w3))) == 1: # skip if all weights are equal\n",
    "                continue\n",
    "    \n",
    "            eclf = VotingClassifier(estimators,voting='soft', weights=[w1,w2,w3])\n",
    "            scores = cross_validation.cross_val_score(\n",
    "                                                estimator=eclf,\n",
    "                                                X=text_train_tf,\n",
    "                                                y=targets_train,\n",
    "                                                cv=5,\n",
    "                                                scoring='accuracy',\n",
    "                                                n_jobs=1)\n",
    "    \n",
    "            df.loc[i] = [w1, w2, w3, scores.mean(), scores.std()]\n",
    "            i += 1\n",
    "    \n",
    "df.sort(columns=['mean', 'std'], ascending=False)\n",
    "print df"
   ]
  },
  {
   "cell_type": "heading",
   "metadata": {},
   "level": 3,
   "source": [
    "Final ensemble model. Using TFIDF with min_df = 4 and used bigram to also include word pairs. \n",
    "Displaying the final vocabulary and stop words created by TFIDF vectorizer."
   ]
  },
  {
   "cell_type": "code",
   "execution_count": 77,
   "metadata": {},
   "outputs": [],
   "source": [
    "vect_ensemble= TfidfVectorizer(stop_words='english',min_df=4,ngram_range=(1,2))\n",
    "text_train_en=vect_ensemble.fit_transform(text_train)\n",
    "text_test_en=vect_ensemble.transform(text_test)\n",
    "print vect_ensemble.vocabulary_\n",
    "print vect_ensemble.stop_words_"
   ]
  },
  {
   "cell_type": "code",
   "execution_count": null,
   "metadata": {},
   "outputs": [],
   "source": [
    "from sklearn.ensemble import VotingClassifier\n",
    "estimators = []\n",
    "clf1=SVC(C=1,kernel='linear',probability=True)\n",
    "clf2=RandomForestClassifier(n_estimators=200,min_samples_split=25)\n",
    "clf3=LogisticRegression()\n",
    "clf4=MultinomialNB()\n",
    "estimators.append(('SVM',clf1))\n",
    "estimators.append(('Random Forest',clf2))\n",
    "# estimators.append(('Naive Bayes',clf4))\n",
    "estimators.append(('Logistic Regression',clf3))\n",
    "ensemble = VotingClassifier(estimators, voting='soft', weights=[2,1,1])\n",
    "ensemble=ensemble.fit(text_train_en,targets_train)\n",
    "prediction_ensemble=ensemble.predict(text_test_en)\n",
    "ensemble_score = f1_score(targets_test, prediction_ensemble, average='macro')\n",
    "print 'ensemble results:', ensemble_score"
   ]
  },
  {
   "cell_type": "heading",
   "metadata": {},
   "level": 3,
   "source": [
    "Plot of results using various models. "
   ]
  },
  {
   "cell_type": "code",
   "execution_count": 104,
   "metadata": {},
   "outputs": [
    {
     "data": {
      "image/png": "[encoded data removed]"
     },
     "output_type": "display_data",
     "text": [
      "<matplotlib.figure.Figure at 0x2706b828>"
     ],
     "metadata": {}
    }
   ],
   "source": [
    "#Plot showing results of models\n",
    "\n",
    "import numpy as np\n",
    "import matplotlib.pyplot as plt\n",
    "%matplotlib inline\n",
    "scores = [baseline,score_logit,random_score,svc_score,ensemble_score]\n",
    "# scores = [48.5,39,44,50,53.5]\n",
    "models = ['Baseline','Logit','RandomForest','SVM','Ensemble']\n",
    "y_pos=np.arange(len(scores))\n",
    "my_colors = 'rgbkymc'\n",
    "plt.bar(y_pos,scores, alpha=0.5,align='center',color=my_colors)\n",
    "plt.xticks(y_pos,models)\n",
    "plt.ylabel('Score');\n",
    "plt.xlabel('Classifiers')\n",
    "plt.title('F1 macro score for different models')\n",
    "plt.show()"
   ]
  }
 ],
 "metadata": {},
 "nbformat": 4,
 "nbformat_minor": 0
}